{
 "cells": [
  {
   "cell_type": "code",
   "execution_count": 1,
   "id": "7c8f7253",
   "metadata": {},
   "outputs": [],
   "source": [
    "import pandas as pd\n",
    "import matplotlib.pyplot as plt\n",
    "import seaborn as sns\n",
    "import warnings\n",
    "from sklearn.svm import SVC\n",
    "\n",
    "from sklearn.preprocessing import LabelEncoder\n",
    "from sklearn.model_selection import train_test_split\n",
    "from sklearn.metrics import roc_auc_score,recall_score,precision_score,accuracy_score,confusion_matrix\n",
    "\n",
    "model = SVC(kernel= \"linear\")\n",
    "ln = LabelEncoder()\n",
    "warnings.filterwarnings(\"ignore\")"
   ]
  },
  {
   "cell_type": "code",
   "execution_count": 49,
   "id": "52ba975c",
   "metadata": {},
   "outputs": [],
   "source": [
    "\n",
    "def res(y_test,y_pred):\n",
    "    print(\"Overall Accuracy : \",round(accuracy_score(y_test,y_pred),4))\n",
    "    print(\"Precision        : \",round(precision_score(y_test,y_pred),4))\n",
    "    print(\"Recall           : \",round(recall_score(y_test,y_pred),4))\n",
    "    print(\"AUC Score        : \",round(roc_auc_score(y_test,y_pred),4))\n",
    "    print(\"Confusion Matrix :\")\n",
    "    plt.figure(figsize = (8,6))\n",
    "    confu_matrix = confusion_matrix(y_test,y_pred)\n",
    "    sns.heatmap(data = confu_matrix,\n",
    "            annot=True,\n",
    "            linewidths=0.8,\n",
    "            )"
   ]
  },
  {
   "cell_type": "code",
   "execution_count": 2,
   "id": "863bb51c",
   "metadata": {},
   "outputs": [],
   "source": [
    "sal_data = pd.read_csv(\"SalaryData_Train(1).csv\")"
   ]
  },
  {
   "cell_type": "code",
   "execution_count": 3,
   "id": "e85d9b39",
   "metadata": {},
   "outputs": [
    {
     "data": {
      "text/plain": [
       "age              0\n",
       "workclass        0\n",
       "education        0\n",
       "educationno      0\n",
       "maritalstatus    0\n",
       "occupation       0\n",
       "relationship     0\n",
       "race             0\n",
       "sex              0\n",
       "capitalgain      0\n",
       "capitalloss      0\n",
       "hoursperweek     0\n",
       "native           0\n",
       "Salary           0\n",
       "dtype: int64"
      ]
     },
     "execution_count": 3,
     "metadata": {},
     "output_type": "execute_result"
    }
   ],
   "source": [
    "sal_data.isna().sum()"
   ]
  },
  {
   "cell_type": "code",
   "execution_count": 4,
   "id": "d87ad962",
   "metadata": {},
   "outputs": [
    {
     "data": {
      "text/html": [
       "<div>\n",
       "<style scoped>\n",
       "    .dataframe tbody tr th:only-of-type {\n",
       "        vertical-align: middle;\n",
       "    }\n",
       "\n",
       "    .dataframe tbody tr th {\n",
       "        vertical-align: top;\n",
       "    }\n",
       "\n",
       "    .dataframe thead th {\n",
       "        text-align: right;\n",
       "    }\n",
       "</style>\n",
       "<table border=\"1\" class=\"dataframe\">\n",
       "  <thead>\n",
       "    <tr style=\"text-align: right;\">\n",
       "      <th></th>\n",
       "      <th>age</th>\n",
       "      <th>workclass</th>\n",
       "      <th>education</th>\n",
       "      <th>educationno</th>\n",
       "      <th>maritalstatus</th>\n",
       "      <th>occupation</th>\n",
       "      <th>relationship</th>\n",
       "      <th>race</th>\n",
       "      <th>sex</th>\n",
       "      <th>capitalgain</th>\n",
       "      <th>capitalloss</th>\n",
       "      <th>hoursperweek</th>\n",
       "      <th>native</th>\n",
       "      <th>Salary</th>\n",
       "    </tr>\n",
       "  </thead>\n",
       "  <tbody>\n",
       "    <tr>\n",
       "      <th>0</th>\n",
       "      <td>39</td>\n",
       "      <td>State-gov</td>\n",
       "      <td>Bachelors</td>\n",
       "      <td>13</td>\n",
       "      <td>Never-married</td>\n",
       "      <td>Adm-clerical</td>\n",
       "      <td>Not-in-family</td>\n",
       "      <td>White</td>\n",
       "      <td>Male</td>\n",
       "      <td>2174</td>\n",
       "      <td>0</td>\n",
       "      <td>40</td>\n",
       "      <td>United-States</td>\n",
       "      <td>&lt;=50K</td>\n",
       "    </tr>\n",
       "    <tr>\n",
       "      <th>1</th>\n",
       "      <td>50</td>\n",
       "      <td>Self-emp-not-inc</td>\n",
       "      <td>Bachelors</td>\n",
       "      <td>13</td>\n",
       "      <td>Married-civ-spouse</td>\n",
       "      <td>Exec-managerial</td>\n",
       "      <td>Husband</td>\n",
       "      <td>White</td>\n",
       "      <td>Male</td>\n",
       "      <td>0</td>\n",
       "      <td>0</td>\n",
       "      <td>13</td>\n",
       "      <td>United-States</td>\n",
       "      <td>&lt;=50K</td>\n",
       "    </tr>\n",
       "    <tr>\n",
       "      <th>2</th>\n",
       "      <td>38</td>\n",
       "      <td>Private</td>\n",
       "      <td>HS-grad</td>\n",
       "      <td>9</td>\n",
       "      <td>Divorced</td>\n",
       "      <td>Handlers-cleaners</td>\n",
       "      <td>Not-in-family</td>\n",
       "      <td>White</td>\n",
       "      <td>Male</td>\n",
       "      <td>0</td>\n",
       "      <td>0</td>\n",
       "      <td>40</td>\n",
       "      <td>United-States</td>\n",
       "      <td>&lt;=50K</td>\n",
       "    </tr>\n",
       "    <tr>\n",
       "      <th>3</th>\n",
       "      <td>53</td>\n",
       "      <td>Private</td>\n",
       "      <td>11th</td>\n",
       "      <td>7</td>\n",
       "      <td>Married-civ-spouse</td>\n",
       "      <td>Handlers-cleaners</td>\n",
       "      <td>Husband</td>\n",
       "      <td>Black</td>\n",
       "      <td>Male</td>\n",
       "      <td>0</td>\n",
       "      <td>0</td>\n",
       "      <td>40</td>\n",
       "      <td>United-States</td>\n",
       "      <td>&lt;=50K</td>\n",
       "    </tr>\n",
       "    <tr>\n",
       "      <th>4</th>\n",
       "      <td>28</td>\n",
       "      <td>Private</td>\n",
       "      <td>Bachelors</td>\n",
       "      <td>13</td>\n",
       "      <td>Married-civ-spouse</td>\n",
       "      <td>Prof-specialty</td>\n",
       "      <td>Wife</td>\n",
       "      <td>Black</td>\n",
       "      <td>Female</td>\n",
       "      <td>0</td>\n",
       "      <td>0</td>\n",
       "      <td>40</td>\n",
       "      <td>Cuba</td>\n",
       "      <td>&lt;=50K</td>\n",
       "    </tr>\n",
       "  </tbody>\n",
       "</table>\n",
       "</div>"
      ],
      "text/plain": [
       "   age          workclass   education  educationno        maritalstatus  \\\n",
       "0   39          State-gov   Bachelors           13        Never-married   \n",
       "1   50   Self-emp-not-inc   Bachelors           13   Married-civ-spouse   \n",
       "2   38            Private     HS-grad            9             Divorced   \n",
       "3   53            Private        11th            7   Married-civ-spouse   \n",
       "4   28            Private   Bachelors           13   Married-civ-spouse   \n",
       "\n",
       "           occupation    relationship    race      sex  capitalgain  \\\n",
       "0        Adm-clerical   Not-in-family   White     Male         2174   \n",
       "1     Exec-managerial         Husband   White     Male            0   \n",
       "2   Handlers-cleaners   Not-in-family   White     Male            0   \n",
       "3   Handlers-cleaners         Husband   Black     Male            0   \n",
       "4      Prof-specialty            Wife   Black   Female            0   \n",
       "\n",
       "   capitalloss  hoursperweek          native  Salary  \n",
       "0            0            40   United-States   <=50K  \n",
       "1            0            13   United-States   <=50K  \n",
       "2            0            40   United-States   <=50K  \n",
       "3            0            40   United-States   <=50K  \n",
       "4            0            40            Cuba   <=50K  "
      ]
     },
     "execution_count": 4,
     "metadata": {},
     "output_type": "execute_result"
    }
   ],
   "source": [
    "sal_data.head()"
   ]
  },
  {
   "cell_type": "code",
   "execution_count": 5,
   "id": "d935d0d5",
   "metadata": {},
   "outputs": [],
   "source": [
    "sal_data[\"workclass\"] = ln.fit_transform(sal_data[\"workclass\"])\n",
    "sal_data[\"education\"] = ln.fit_transform(sal_data[\"education\"])\n",
    "sal_data[\"maritalstatus\"] = ln.fit_transform(sal_data[\"maritalstatus\"])\n",
    "sal_data[\"occupation\"] = ln.fit_transform(sal_data[\"occupation\"])\n",
    "sal_data[\"relationship\"] = ln.fit_transform(sal_data[\"relationship\"])\n",
    "sal_data[\"race\"] = ln.fit_transform(sal_data[\"race\"])\n",
    "sal_data[\"native\"] = ln.fit_transform(sal_data[\"native\"])\n",
    "sal_data[\"Salary\"] = ln.fit_transform(sal_data[\"Salary\"])\n",
    "sal_data[\"sex\"] = ln.fit_transform(sal_data[\"sex\"])"
   ]
  },
  {
   "cell_type": "code",
   "execution_count": 6,
   "id": "d2e42047",
   "metadata": {},
   "outputs": [
    {
     "data": {
      "text/html": [
       "<div>\n",
       "<style scoped>\n",
       "    .dataframe tbody tr th:only-of-type {\n",
       "        vertical-align: middle;\n",
       "    }\n",
       "\n",
       "    .dataframe tbody tr th {\n",
       "        vertical-align: top;\n",
       "    }\n",
       "\n",
       "    .dataframe thead th {\n",
       "        text-align: right;\n",
       "    }\n",
       "</style>\n",
       "<table border=\"1\" class=\"dataframe\">\n",
       "  <thead>\n",
       "    <tr style=\"text-align: right;\">\n",
       "      <th></th>\n",
       "      <th>age</th>\n",
       "      <th>workclass</th>\n",
       "      <th>education</th>\n",
       "      <th>educationno</th>\n",
       "      <th>maritalstatus</th>\n",
       "      <th>occupation</th>\n",
       "      <th>relationship</th>\n",
       "      <th>race</th>\n",
       "      <th>sex</th>\n",
       "      <th>capitalgain</th>\n",
       "      <th>capitalloss</th>\n",
       "      <th>hoursperweek</th>\n",
       "      <th>native</th>\n",
       "      <th>Salary</th>\n",
       "    </tr>\n",
       "  </thead>\n",
       "  <tbody>\n",
       "    <tr>\n",
       "      <th>0</th>\n",
       "      <td>39</td>\n",
       "      <td>5</td>\n",
       "      <td>9</td>\n",
       "      <td>13</td>\n",
       "      <td>4</td>\n",
       "      <td>0</td>\n",
       "      <td>1</td>\n",
       "      <td>4</td>\n",
       "      <td>1</td>\n",
       "      <td>2174</td>\n",
       "      <td>0</td>\n",
       "      <td>40</td>\n",
       "      <td>37</td>\n",
       "      <td>0</td>\n",
       "    </tr>\n",
       "    <tr>\n",
       "      <th>1</th>\n",
       "      <td>50</td>\n",
       "      <td>4</td>\n",
       "      <td>9</td>\n",
       "      <td>13</td>\n",
       "      <td>2</td>\n",
       "      <td>3</td>\n",
       "      <td>0</td>\n",
       "      <td>4</td>\n",
       "      <td>1</td>\n",
       "      <td>0</td>\n",
       "      <td>0</td>\n",
       "      <td>13</td>\n",
       "      <td>37</td>\n",
       "      <td>0</td>\n",
       "    </tr>\n",
       "    <tr>\n",
       "      <th>2</th>\n",
       "      <td>38</td>\n",
       "      <td>2</td>\n",
       "      <td>11</td>\n",
       "      <td>9</td>\n",
       "      <td>0</td>\n",
       "      <td>5</td>\n",
       "      <td>1</td>\n",
       "      <td>4</td>\n",
       "      <td>1</td>\n",
       "      <td>0</td>\n",
       "      <td>0</td>\n",
       "      <td>40</td>\n",
       "      <td>37</td>\n",
       "      <td>0</td>\n",
       "    </tr>\n",
       "    <tr>\n",
       "      <th>3</th>\n",
       "      <td>53</td>\n",
       "      <td>2</td>\n",
       "      <td>1</td>\n",
       "      <td>7</td>\n",
       "      <td>2</td>\n",
       "      <td>5</td>\n",
       "      <td>0</td>\n",
       "      <td>2</td>\n",
       "      <td>1</td>\n",
       "      <td>0</td>\n",
       "      <td>0</td>\n",
       "      <td>40</td>\n",
       "      <td>37</td>\n",
       "      <td>0</td>\n",
       "    </tr>\n",
       "    <tr>\n",
       "      <th>4</th>\n",
       "      <td>28</td>\n",
       "      <td>2</td>\n",
       "      <td>9</td>\n",
       "      <td>13</td>\n",
       "      <td>2</td>\n",
       "      <td>9</td>\n",
       "      <td>5</td>\n",
       "      <td>2</td>\n",
       "      <td>0</td>\n",
       "      <td>0</td>\n",
       "      <td>0</td>\n",
       "      <td>40</td>\n",
       "      <td>4</td>\n",
       "      <td>0</td>\n",
       "    </tr>\n",
       "    <tr>\n",
       "      <th>...</th>\n",
       "      <td>...</td>\n",
       "      <td>...</td>\n",
       "      <td>...</td>\n",
       "      <td>...</td>\n",
       "      <td>...</td>\n",
       "      <td>...</td>\n",
       "      <td>...</td>\n",
       "      <td>...</td>\n",
       "      <td>...</td>\n",
       "      <td>...</td>\n",
       "      <td>...</td>\n",
       "      <td>...</td>\n",
       "      <td>...</td>\n",
       "      <td>...</td>\n",
       "    </tr>\n",
       "    <tr>\n",
       "      <th>30156</th>\n",
       "      <td>27</td>\n",
       "      <td>2</td>\n",
       "      <td>7</td>\n",
       "      <td>12</td>\n",
       "      <td>2</td>\n",
       "      <td>12</td>\n",
       "      <td>5</td>\n",
       "      <td>4</td>\n",
       "      <td>0</td>\n",
       "      <td>0</td>\n",
       "      <td>0</td>\n",
       "      <td>38</td>\n",
       "      <td>37</td>\n",
       "      <td>0</td>\n",
       "    </tr>\n",
       "    <tr>\n",
       "      <th>30157</th>\n",
       "      <td>40</td>\n",
       "      <td>2</td>\n",
       "      <td>11</td>\n",
       "      <td>9</td>\n",
       "      <td>2</td>\n",
       "      <td>6</td>\n",
       "      <td>0</td>\n",
       "      <td>4</td>\n",
       "      <td>1</td>\n",
       "      <td>0</td>\n",
       "      <td>0</td>\n",
       "      <td>40</td>\n",
       "      <td>37</td>\n",
       "      <td>1</td>\n",
       "    </tr>\n",
       "    <tr>\n",
       "      <th>30158</th>\n",
       "      <td>58</td>\n",
       "      <td>2</td>\n",
       "      <td>11</td>\n",
       "      <td>9</td>\n",
       "      <td>6</td>\n",
       "      <td>0</td>\n",
       "      <td>4</td>\n",
       "      <td>4</td>\n",
       "      <td>0</td>\n",
       "      <td>0</td>\n",
       "      <td>0</td>\n",
       "      <td>40</td>\n",
       "      <td>37</td>\n",
       "      <td>0</td>\n",
       "    </tr>\n",
       "    <tr>\n",
       "      <th>30159</th>\n",
       "      <td>22</td>\n",
       "      <td>2</td>\n",
       "      <td>11</td>\n",
       "      <td>9</td>\n",
       "      <td>4</td>\n",
       "      <td>0</td>\n",
       "      <td>3</td>\n",
       "      <td>4</td>\n",
       "      <td>1</td>\n",
       "      <td>0</td>\n",
       "      <td>0</td>\n",
       "      <td>20</td>\n",
       "      <td>37</td>\n",
       "      <td>0</td>\n",
       "    </tr>\n",
       "    <tr>\n",
       "      <th>30160</th>\n",
       "      <td>52</td>\n",
       "      <td>3</td>\n",
       "      <td>11</td>\n",
       "      <td>9</td>\n",
       "      <td>2</td>\n",
       "      <td>3</td>\n",
       "      <td>5</td>\n",
       "      <td>4</td>\n",
       "      <td>0</td>\n",
       "      <td>15024</td>\n",
       "      <td>0</td>\n",
       "      <td>40</td>\n",
       "      <td>37</td>\n",
       "      <td>1</td>\n",
       "    </tr>\n",
       "  </tbody>\n",
       "</table>\n",
       "<p>30161 rows × 14 columns</p>\n",
       "</div>"
      ],
      "text/plain": [
       "       age  workclass  education  educationno  maritalstatus  occupation  \\\n",
       "0       39          5          9           13              4           0   \n",
       "1       50          4          9           13              2           3   \n",
       "2       38          2         11            9              0           5   \n",
       "3       53          2          1            7              2           5   \n",
       "4       28          2          9           13              2           9   \n",
       "...    ...        ...        ...          ...            ...         ...   \n",
       "30156   27          2          7           12              2          12   \n",
       "30157   40          2         11            9              2           6   \n",
       "30158   58          2         11            9              6           0   \n",
       "30159   22          2         11            9              4           0   \n",
       "30160   52          3         11            9              2           3   \n",
       "\n",
       "       relationship  race  sex  capitalgain  capitalloss  hoursperweek  \\\n",
       "0                 1     4    1         2174            0            40   \n",
       "1                 0     4    1            0            0            13   \n",
       "2                 1     4    1            0            0            40   \n",
       "3                 0     2    1            0            0            40   \n",
       "4                 5     2    0            0            0            40   \n",
       "...             ...   ...  ...          ...          ...           ...   \n",
       "30156             5     4    0            0            0            38   \n",
       "30157             0     4    1            0            0            40   \n",
       "30158             4     4    0            0            0            40   \n",
       "30159             3     4    1            0            0            20   \n",
       "30160             5     4    0        15024            0            40   \n",
       "\n",
       "       native  Salary  \n",
       "0          37       0  \n",
       "1          37       0  \n",
       "2          37       0  \n",
       "3          37       0  \n",
       "4           4       0  \n",
       "...       ...     ...  \n",
       "30156      37       0  \n",
       "30157      37       1  \n",
       "30158      37       0  \n",
       "30159      37       0  \n",
       "30160      37       1  \n",
       "\n",
       "[30161 rows x 14 columns]"
      ]
     },
     "execution_count": 6,
     "metadata": {},
     "output_type": "execute_result"
    }
   ],
   "source": [
    "sal_data"
   ]
  },
  {
   "cell_type": "code",
   "execution_count": 42,
   "id": "44b1712c",
   "metadata": {},
   "outputs": [],
   "source": [
    "x = sal_data.drop(labels=\"Salary\" , axis = 1)\n",
    "y = sal_data[[\"Salary\"]]"
   ]
  },
  {
   "cell_type": "code",
   "execution_count": 43,
   "id": "a8b2c684",
   "metadata": {},
   "outputs": [],
   "source": [
    "x = x.iloc[0:30000,:]\n",
    "y = y.iloc[0:30000,:]"
   ]
  },
  {
   "cell_type": "code",
   "execution_count": 44,
   "id": "e73af72b",
   "metadata": {},
   "outputs": [],
   "source": [
    "x_train,x_test,y_train,y_test = train_test_split(x,y,test_size=0.20,random_state=12,stratify= y)"
   ]
  },
  {
   "cell_type": "code",
   "execution_count": 45,
   "id": "0e283a03",
   "metadata": {},
   "outputs": [
    {
     "data": {
      "text/plain": [
       "(24000, 13)"
      ]
     },
     "execution_count": 45,
     "metadata": {},
     "output_type": "execute_result"
    }
   ],
   "source": [
    "x_train.shape"
   ]
  },
  {
   "cell_type": "code",
   "execution_count": 46,
   "id": "aa2cc008",
   "metadata": {},
   "outputs": [
    {
     "name": "stdout",
     "output_type": "stream",
     "text": [
      "Overall Accuracy :  0.7738\n",
      "Precision        :  0.9791\n",
      "Recall           :  0.094\n",
      "AUC Score        :  0.5467\n",
      "Confusion Matrix :\n",
      "Wall time: 33.1 s\n"
     ]
    },
    {
     "data": {
      "image/png": "[encoded data removed]",
      "text/plain": [
       "<Figure size 576x432 with 2 Axes>"
      ]
     },
     "metadata": {
      "needs_background": "light"
     },
     "output_type": "display_data"
    }
   ],
   "source": [
    "%%time\n",
    "model = SVC(kernel = \"poly\")\n",
    "model.fit(x_train,y_train)\n",
    "y_train_pred = model.predict(x_train)\n",
    "res(y_train,y_train_pred)\n"
   ]
  },
  {
   "cell_type": "code",
   "execution_count": 47,
   "id": "f7e1a55b",
   "metadata": {},
   "outputs": [
    {
     "name": "stdout",
     "output_type": "stream",
     "text": [
      "Overall Accuracy :  0.7962\n",
      "Precision        :  0.7446\n",
      "Recall           :  0.2765\n",
      "AUC Score        :  0.6225\n",
      "Confusion Matrix :\n",
      "Wall time: 1min 8s\n"
     ]
    },
    {
     "data": {
      "image/png": "[encoded data removed]",
      "text/plain": [
       "<Figure size 576x432 with 2 Axes>"
      ]
     },
     "metadata": {
      "needs_background": "light"
     },
     "output_type": "display_data"
    }
   ],
   "source": [
    "%%time\n",
    "model = SVC(kernel = \"rbf\")\n",
    "model.fit(x_train,y_train)\n",
    "y_train_pred = model.predict(x_train)\n",
    "res(y_train,y_train_pred)"
   ]
  },
  {
   "cell_type": "code",
   "execution_count": 48,
   "id": "3d89e841",
   "metadata": {},
   "outputs": [
    {
     "name": "stdout",
     "output_type": "stream",
     "text": [
      "Overall Accuracy :  0.7568\n",
      "Precision        :  0.5264\n",
      "Recall           :  0.2352\n",
      "AUC Score        :  0.5825\n",
      "Confusion Matrix :\n",
      "Wall time: 1min\n"
     ]
    },
    {
     "data": {
      "image/png": "[encoded data removed]",
      "text/plain": [
       "<Figure size 576x432 with 2 Axes>"
      ]
     },
     "metadata": {
      "needs_background": "light"
     },
     "output_type": "display_data"
    }
   ],
   "source": [
    "%%time\n",
    "model = SVC(kernel = \"sigmoid\")\n",
    "model.fit(x_train,y_train)\n",
    "y_train_pred = model.predict(x_train)\n",
    "res(y_train,y_train_pred)"
   ]
  },
  {
   "cell_type": "markdown",
   "id": "9afe5ace",
   "metadata": {},
   "source": [
    "### For slpited Test Data"
   ]
  },
  {
   "cell_type": "code",
   "execution_count": 50,
   "id": "6302375a",
   "metadata": {},
   "outputs": [
    {
     "name": "stdout",
     "output_type": "stream",
     "text": [
      "Overall Accuracy :  0.7558\n",
      "Precision        :  0.5229\n",
      "Recall           :  0.2288\n",
      "AUC Score        :  0.5798\n",
      "Confusion Matrix :\n",
      "Wall time: 30.2 s\n"
     ]
    },
    {
     "data": {
      "image/png": "[encoded data removed]",
      "text/plain": [
       "<Figure size 576x432 with 2 Axes>"
      ]
     },
     "metadata": {
      "needs_background": "light"
     },
     "output_type": "display_data"
    }
   ],
   "source": [
    "%%time\n",
    "model = SVC(kernel = \"sigmoid\"`)\n",
    "model.fit(x_train,y_train)\n",
    "y_test_pred = model.predict(x_test)\n",
    "res(y_test,y_test_pred)"
   ]
  },
  {
   "cell_type": "code",
   "execution_count": 53,
   "id": "0613809a",
   "metadata": {},
   "outputs": [
    {
     "name": "stdout",
     "output_type": "stream",
     "text": [
      "[LibSVM]Overall Accuracy :  0.7948\n",
      "Precision        :  0.75\n",
      "Recall           :  0.2649\n",
      "AUC Score        :  0.6178\n",
      "Confusion Matrix :\n",
      "Wall time: 35.6 s\n"
     ]
    },
    {
     "data": {
      "image/png": "[encoded data removed]",
      "text/plain": [
       "<Figure size 576x432 with 2 Axes>"
      ]
     },
     "metadata": {
      "needs_background": "light"
     },
     "output_type": "display_data"
    }
   ],
   "source": [
    "%%time\n",
    "model = SVC(kernel = \"rbf\",verbose=True)\n",
    "model.fit(x_train,y_train)\n",
    "y_test_pred = model.predict(x_test)\n",
    "res(y_test,y_test_pred)"
   ]
  },
  {
   "cell_type": "markdown",
   "id": "5517fb40",
   "metadata": {},
   "source": [
    "### For Given Test Data outside"
   ]
  },
  {
   "cell_type": "code",
   "execution_count": 57,
   "id": "6184b8c9",
   "metadata": {},
   "outputs": [],
   "source": [
    "sal_data_test = pd.read_csv(\"SalaryData_Test(1).csv\")\n",
    "sal_data_test[\"workclass\"] = ln.fit_transform(sal_data_test[\"workclass\"])\n",
    "sal_data_test[\"education\"] = ln.fit_transform(sal_data_test[\"education\"])\n",
    "sal_data_test[\"maritalstatus\"] = ln.fit_transform(sal_data_test[\"maritalstatus\"])\n",
    "sal_data_test[\"occupation\"] = ln.fit_transform(sal_data_test[\"occupation\"])\n",
    "sal_data_test[\"relationship\"] = ln.fit_transform(sal_data_test[\"relationship\"])\n",
    "sal_data_test[\"race\"] = ln.fit_transform(sal_data_test[\"race\"])\n",
    "sal_data_test[\"native\"] = ln.fit_transform(sal_data_test[\"native\"])\n",
    "sal_data_test[\"Salary\"] = ln.fit_transform(sal_data_test[\"Salary\"])\n",
    "sal_data_test[\"sex\"] = ln.fit_transform(sal_data_test[\"sex\"])"
   ]
  },
  {
   "cell_type": "code",
   "execution_count": 60,
   "id": "c89da2b9",
   "metadata": {},
   "outputs": [],
   "source": [
    "x_givn_test = sal_data_test.drop(labels=\"Salary\" , axis = 1)\n",
    "y_givn_test = sal_data_test[[\"Salary\"]]"
   ]
  },
  {
   "cell_type": "code",
   "execution_count": 61,
   "id": "6df868d4",
   "metadata": {},
   "outputs": [
    {
     "name": "stdout",
     "output_type": "stream",
     "text": [
      "Overall Accuracy :  0.7964\n",
      "Precision        :  0.7331\n",
      "Recall           :  0.2695\n",
      "AUC Score        :  0.6188\n",
      "Confusion Matrix :\n",
      "Wall time: 51.3 s\n"
     ]
    },
    {
     "data": {
      "image/png": "[encoded data removed]",
      "text/plain": [
       "<Figure size 576x432 with 2 Axes>"
      ]
     },
     "metadata": {
      "needs_background": "light"
     },
     "output_type": "display_data"
    }
   ],
   "source": [
    "%%time\n",
    "model = SVC(kernel = \"rbf\")\n",
    "model.fit(x_train,y_train)\n",
    "y_test_pred = model.predict(x_givn_test)\n",
    "res(y_givn_test,y_test_pred)"
   ]
  },
  {
   "cell_type": "code",
   "execution_count": 62,
   "id": "53ffa992",
   "metadata": {},
   "outputs": [
    {
     "name": "stdout",
     "output_type": "stream",
     "text": [
      "Overall Accuracy :  0.7766\n",
      "Precision        :  0.9912\n",
      "Recall           :  0.0916\n",
      "AUC Score        :  0.5457\n",
      "Confusion Matrix :\n",
      "Wall time: 27.6 s\n"
     ]
    },
    {
     "data": {
      "image/png": "[encoded data removed]",
      "text/plain": [
       "<Figure size 576x432 with 2 Axes>"
      ]
     },
     "metadata": {
      "needs_background": "light"
     },
     "output_type": "display_data"
    }
   ],
   "source": [
    "%%time\n",
    "model = SVC(kernel = \"poly\")\n",
    "model.fit(x_train,y_train)\n",
    "y_test_pred = model.predict(x_givn_test)\n",
    "res(y_givn_test,y_test_pred)\n"
   ]
  },
  {
   "cell_type": "code",
   "execution_count": null,
   "id": "d9e0bea3",
   "metadata": {},
   "outputs": [],
   "source": []
  },
  {
   "cell_type": "code",
   "execution_count": null,
   "id": "434f922c",
   "metadata": {},
   "outputs": [],
   "source": []
  }
 ],
 "metadata": {
  "kernelspec": {
   "display_name": "Python 3",
   "language": "python",
   "name": "python3"
  },
  "language_info": {
   "codemirror_mode": {
    "name": "ipython",
    "version": 3
   },
   "file_extension": ".py",
   "mimetype": "text/x-python",
   "name": "python",
   "nbconvert_exporter": "python",
   "pygments_lexer": "ipython3",
   "version": "3.8.8"
  }
 },
 "nbformat": 4,
 "nbformat_minor": 5
}

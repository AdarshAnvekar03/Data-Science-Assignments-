{
 "cells": [
  {
   "cell_type": "code",
   "execution_count": 1,
   "id": "37b209ec",
   "metadata": {},
   "outputs": [],
   "source": [
    "import pandas as pd\n",
    "import numpy as np\n",
    "import seaborn as sns\n",
    "import matplotlib.pyplot as plt\n",
    "from sklearn.cluster import KMeans\n",
    "from sklearn.preprocessing import MinMaxScaler,LabelEncoder,StandardScaler\n",
    "\n",
    "\n",
    "sca = MinMaxScaler()\n",
    "snd = StandardScaler()\n",
    "ln = LabelEncoder()"
   ]
  },
  {
   "cell_type": "code",
   "execution_count": 2,
   "id": "43dbd02d",
   "metadata": {},
   "outputs": [],
   "source": [
    "data = pd.read_csv(\"crime_data.csv\")"
   ]
  },
  {
   "cell_type": "code",
   "execution_count": 3,
   "id": "18c43f4c",
   "metadata": {},
   "outputs": [
    {
     "data": {
      "text/plain": [
       "Index(['Unnamed: 0', 'Murder', 'Assault', 'UrbanPop', 'Rape'], dtype='object')"
      ]
     },
     "execution_count": 3,
     "metadata": {},
     "output_type": "execute_result"
    }
   ],
   "source": [
    "data.columns"
   ]
  },
  {
   "cell_type": "code",
   "execution_count": 4,
   "id": "d5f61057",
   "metadata": {},
   "outputs": [],
   "source": [
    "data.columns = ['city', 'Murder', 'Assault', 'UrbanPop', 'Rape']"
   ]
  },
  {
   "cell_type": "code",
   "execution_count": 5,
   "id": "ca09511b",
   "metadata": {},
   "outputs": [
    {
     "data": {
      "text/plain": [
       "(50, 5)"
      ]
     },
     "execution_count": 5,
     "metadata": {},
     "output_type": "execute_result"
    }
   ],
   "source": [
    "data.shape"
   ]
  },
  {
   "cell_type": "code",
   "execution_count": 6,
   "id": "73c3ebae",
   "metadata": {},
   "outputs": [
    {
     "data": {
      "text/plain": [
       "city        0\n",
       "Murder      0\n",
       "Assault     0\n",
       "UrbanPop    0\n",
       "Rape        0\n",
       "dtype: int64"
      ]
     },
     "execution_count": 6,
     "metadata": {},
     "output_type": "execute_result"
    }
   ],
   "source": [
    "data.isna().sum()"
   ]
  },
  {
   "cell_type": "code",
   "execution_count": 7,
   "id": "c3ee806f",
   "metadata": {},
   "outputs": [
    {
     "data": {
      "text/plain": [
       "city         object\n",
       "Murder      float64\n",
       "Assault       int64\n",
       "UrbanPop      int64\n",
       "Rape        float64\n",
       "dtype: object"
      ]
     },
     "execution_count": 7,
     "metadata": {},
     "output_type": "execute_result"
    }
   ],
   "source": [
    "data.dtypes"
   ]
  },
  {
   "cell_type": "code",
   "execution_count": 8,
   "id": "09becf99",
   "metadata": {},
   "outputs": [
    {
     "data": {
      "text/html": [
       "<div>\n",
       "<style scoped>\n",
       "    .dataframe tbody tr th:only-of-type {\n",
       "        vertical-align: middle;\n",
       "    }\n",
       "\n",
       "    .dataframe tbody tr th {\n",
       "        vertical-align: top;\n",
       "    }\n",
       "\n",
       "    .dataframe thead th {\n",
       "        text-align: right;\n",
       "    }\n",
       "</style>\n",
       "<table border=\"1\" class=\"dataframe\">\n",
       "  <thead>\n",
       "    <tr style=\"text-align: right;\">\n",
       "      <th></th>\n",
       "      <th>city</th>\n",
       "      <th>Murder</th>\n",
       "      <th>Assault</th>\n",
       "      <th>UrbanPop</th>\n",
       "      <th>Rape</th>\n",
       "    </tr>\n",
       "  </thead>\n",
       "  <tbody>\n",
       "    <tr>\n",
       "      <th>0</th>\n",
       "      <td>Alabama</td>\n",
       "      <td>13.2</td>\n",
       "      <td>236</td>\n",
       "      <td>58</td>\n",
       "      <td>21.2</td>\n",
       "    </tr>\n",
       "    <tr>\n",
       "      <th>1</th>\n",
       "      <td>Alaska</td>\n",
       "      <td>10.0</td>\n",
       "      <td>263</td>\n",
       "      <td>48</td>\n",
       "      <td>44.5</td>\n",
       "    </tr>\n",
       "    <tr>\n",
       "      <th>2</th>\n",
       "      <td>Arizona</td>\n",
       "      <td>8.1</td>\n",
       "      <td>294</td>\n",
       "      <td>80</td>\n",
       "      <td>31.0</td>\n",
       "    </tr>\n",
       "    <tr>\n",
       "      <th>3</th>\n",
       "      <td>Arkansas</td>\n",
       "      <td>8.8</td>\n",
       "      <td>190</td>\n",
       "      <td>50</td>\n",
       "      <td>19.5</td>\n",
       "    </tr>\n",
       "    <tr>\n",
       "      <th>4</th>\n",
       "      <td>California</td>\n",
       "      <td>9.0</td>\n",
       "      <td>276</td>\n",
       "      <td>91</td>\n",
       "      <td>40.6</td>\n",
       "    </tr>\n",
       "  </tbody>\n",
       "</table>\n",
       "</div>"
      ],
      "text/plain": [
       "         city  Murder  Assault  UrbanPop  Rape\n",
       "0     Alabama    13.2      236        58  21.2\n",
       "1      Alaska    10.0      263        48  44.5\n",
       "2     Arizona     8.1      294        80  31.0\n",
       "3    Arkansas     8.8      190        50  19.5\n",
       "4  California     9.0      276        91  40.6"
      ]
     },
     "execution_count": 8,
     "metadata": {},
     "output_type": "execute_result"
    }
   ],
   "source": [
    "data.head()"
   ]
  },
  {
   "cell_type": "code",
   "execution_count": 9,
   "id": "54e7845c",
   "metadata": {},
   "outputs": [],
   "source": [
    "ddata = data.copy()"
   ]
  },
  {
   "cell_type": "code",
   "execution_count": 10,
   "id": "196a63db",
   "metadata": {},
   "outputs": [],
   "source": [
    "ddata[\"city\"] = ln.fit_transform(ddata[\"city\"])"
   ]
  },
  {
   "cell_type": "code",
   "execution_count": 11,
   "id": "1471ddf3",
   "metadata": {},
   "outputs": [],
   "source": [
    "scaledx = sca.fit_transform(ddata)\n",
    "sndscal = snd.fit_transform(ddata)"
   ]
  },
  {
   "cell_type": "code",
   "execution_count": 12,
   "id": "8d23ade9",
   "metadata": {},
   "outputs": [
    {
     "data": {
      "text/plain": [
       "array([[0.        , 0.74698795, 0.65410959, 0.44067797, 0.35917313],\n",
       "       [0.02040816, 0.55421687, 0.74657534, 0.27118644, 0.96124031],\n",
       "       [0.04081633, 0.43975904, 0.85273973, 0.81355932, 0.6124031 ],\n",
       "       [0.06122449, 0.48192771, 0.49657534, 0.30508475, 0.31524548],\n",
       "       [0.08163265, 0.4939759 , 0.79109589, 1.        , 0.86046512],\n",
       "       [0.10204082, 0.42771084, 0.54452055, 0.77966102, 0.81136951],\n",
       "       [0.12244898, 0.15060241, 0.22260274, 0.76271186, 0.09819121],\n",
       "       [0.14285714, 0.30722892, 0.6609589 , 0.6779661 , 0.21963824],\n",
       "       [0.16326531, 0.87951807, 0.99315068, 0.81355932, 0.63565891],\n",
       "       [0.18367347, 1.        , 0.56849315, 0.47457627, 0.47803618],\n",
       "       [0.20408163, 0.27108434, 0.00342466, 0.86440678, 0.33333333],\n",
       "       [0.2244898 , 0.10843373, 0.25684932, 0.37288136, 0.17829457],\n",
       "       [0.24489796, 0.57831325, 0.69863014, 0.86440678, 0.43152455],\n",
       "       [0.26530612, 0.38554217, 0.23287671, 0.55932203, 0.35400517],\n",
       "       [0.28571429, 0.08433735, 0.03767123, 0.42372881, 0.10335917],\n",
       "       [0.30612245, 0.31325301, 0.23972603, 0.57627119, 0.27648579],\n",
       "       [0.32653061, 0.53614458, 0.21917808, 0.33898305, 0.23255814],\n",
       "       [0.34693878, 0.87951807, 0.69863014, 0.57627119, 0.38501292],\n",
       "       [0.36734694, 0.07831325, 0.13013699, 0.3220339 , 0.0129199 ],\n",
       "       [0.3877551 , 0.63253012, 0.87328767, 0.59322034, 0.52971576],\n",
       "       [0.40816327, 0.21686747, 0.35616438, 0.89830508, 0.23255814],\n",
       "       [0.42857143, 0.68072289, 0.71917808, 0.71186441, 0.71834625],\n",
       "       [0.44897959, 0.11445783, 0.09246575, 0.57627119, 0.19638243],\n",
       "       [0.46938776, 0.92168675, 0.73287671, 0.20338983, 0.25322997],\n",
       "       [0.48979592, 0.4939759 , 0.45547945, 0.6440678 , 0.54005168],\n",
       "       [0.51020408, 0.31325301, 0.21917808, 0.3559322 , 0.23514212],\n",
       "       [0.53061224, 0.21084337, 0.19520548, 0.50847458, 0.2377261 ],\n",
       "       [0.55102041, 0.68674699, 0.70890411, 0.83050847, 1.        ],\n",
       "       [0.57142857, 0.07831325, 0.04109589, 0.40677966, 0.05684755],\n",
       "       [0.59183673, 0.39759036, 0.39041096, 0.96610169, 0.29715762],\n",
       "       [0.6122449 , 0.63855422, 0.82191781, 0.6440678 , 0.64082687],\n",
       "       [0.63265306, 0.62048193, 0.71575342, 0.91525424, 0.48578811],\n",
       "       [0.65306122, 0.73493976, 1.        , 0.22033898, 0.22739018],\n",
       "       [0.67346939, 0.        , 0.        , 0.20338983, 0.        ],\n",
       "       [0.69387755, 0.39156627, 0.25684932, 0.72881356, 0.36434109],\n",
       "       [0.71428571, 0.34939759, 0.3630137 , 0.61016949, 0.32816537],\n",
       "       [0.73469388, 0.24698795, 0.39041096, 0.59322034, 0.56847545],\n",
       "       [0.75510204, 0.3313253 , 0.20890411, 0.6779661 , 0.19638243],\n",
       "       [0.7755102 , 0.15662651, 0.44178082, 0.93220339, 0.02583979],\n",
       "       [0.79591837, 0.81927711, 0.80136986, 0.27118644, 0.39276486],\n",
       "       [0.81632653, 0.18072289, 0.14041096, 0.22033898, 0.14211886],\n",
       "       [0.83673469, 0.74698795, 0.48972603, 0.45762712, 0.50645995],\n",
       "       [0.85714286, 0.71686747, 0.53424658, 0.81355932, 0.47028424],\n",
       "       [0.87755102, 0.14457831, 0.25684932, 0.81355932, 0.40310078],\n",
       "       [0.89795918, 0.08433735, 0.01027397, 0.        , 0.10077519],\n",
       "       [0.91836735, 0.46385542, 0.38013699, 0.52542373, 0.34625323],\n",
       "       [0.93877551, 0.19277108, 0.34246575, 0.69491525, 0.48837209],\n",
       "       [0.95918367, 0.29518072, 0.12328767, 0.11864407, 0.05167959],\n",
       "       [0.97959184, 0.10843373, 0.02739726, 0.57627119, 0.09043928],\n",
       "       [1.        , 0.36144578, 0.39726027, 0.47457627, 0.21447028]])"
      ]
     },
     "execution_count": 12,
     "metadata": {},
     "output_type": "execute_result"
    }
   ],
   "source": [
    "scaledx"
   ]
  },
  {
   "cell_type": "code",
   "execution_count": null,
   "id": "adb37bba",
   "metadata": {},
   "outputs": [],
   "source": []
  },
  {
   "cell_type": "code",
   "execution_count": 13,
   "id": "865b2c36",
   "metadata": {},
   "outputs": [
    {
     "data": {
      "image/png": "[encoded data removed]",
      "text/plain": [
       "<Figure size 432x288 with 1 Axes>"
      ]
     },
     "metadata": {
      "needs_background": "light"
     },
     "output_type": "display_data"
    }
   ],
   "source": [
    "model = KMeans(n_clusters=7 , max_iter=1000,)\n",
    "minmodel  = model.fit(scaledx)\n",
    "sndmodel = model.fit(sndscal)\n",
    "pred = sndmodel.predict(scaledx)\n",
    "plt.scatter(ddata.Assault,ddata.UrbanPop,c=pred)\n",
    "plt.show()\n"
   ]
  },
  {
   "cell_type": "code",
   "execution_count": null,
   "id": "8e02ace1",
   "metadata": {},
   "outputs": [],
   "source": []
  },
  {
   "cell_type": "code",
   "execution_count": null,
   "id": "510eae6a",
   "metadata": {},
   "outputs": [],
   "source": []
  }
 ],
 "metadata": {
  "kernelspec": {
   "display_name": "Python 3",
   "language": "python",
   "name": "python3"
  },
  "language_info": {
   "codemirror_mode": {
    "name": "ipython",
    "version": 3
   },
   "file_extension": ".py",
   "mimetype": "text/x-python",
   "name": "python",
   "nbconvert_exporter": "python",
   "pygments_lexer": "ipython3",
   "version": "3.8.8"
  }
 },
 "nbformat": 4,
 "nbformat_minor": 5
}
